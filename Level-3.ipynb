{
 "cells": [
  {
   "cell_type": "markdown",
   "id": "b9f35542-2532-4a22-9f0b-e773bc123c80",
   "metadata": {},
   "source": [
    "# 🔄 Level 3: Training and Evaluation\n",
    "\n",
    "In this level, you’ll learn how to **train, evaluate, and save models** in PyTorch.  \n",
    "This is where the magic of deep learning happens—where models learn from data through multiple iterations.\n",
    "\n",
    "---\n",
    "\n",
    "## ✔️ Training Loops\n",
    "\n",
    "A **training loop** is the heart of any deep learning project. It involves:\n",
    "1. Forward pass → predictions\n",
    "2. Compute loss\n",
    "3. Backward pass → gradients\n",
    "4. Update weights\n",
    "\n",
    "### Example Training Loop:\n"
   ]
  },
  {
   "cell_type": "code",
   "execution_count": 12,
   "id": "2c0b277b-dff9-4375-ab69-96e1fbbb7517",
   "metadata": {},
   "outputs": [],
   "source": [
    "import torch\n",
    "import torch.nn as nn\n",
    "import torch.optim as optim\n",
    "\n",
    "# Sample model, data, and loss\n",
    "model = nn.Linear(1, 1)\n",
    "criterion = nn.MSELoss()\n",
    "optimizer = optim.SGD(model.parameters(), lr=0.01)\n",
    "\n",
    "# Dummy data\n",
    "X = torch.randn(100, 1)\n",
    "y = 3 * X + 1\n",
    "\n",
    "losses=[]\n",
    "for epoch in range(100):\n",
    "    optimizer.zero_grad()          # Reset gradients\n",
    "    y_pred = model(X)              # Forward pass\n",
    "    loss = criterion(y_pred, y)\n",
    "    losses.append(loss)# Compute loss\n",
    "    loss.backward()                # Backward pass\n",
    "    optimizer.step()               # Update weights\n"
   ]
  },
  {
   "cell_type": "markdown",
   "id": "8578c54b-39cb-48a9-87d3-eaa8429d4a2a",
   "metadata": {},
   "source": [
    "✅ The epoch represents one full pass through the dataset."
   ]
  },
  {
   "cell_type": "markdown",
   "id": "53098744-bff3-41a8-abd1-df2f00182873",
   "metadata": {},
   "source": [
    "## ✔️ Validation/Test\n",
    "- After training, you need to evaluate your model on unseen data.\n",
    "- Use model.eval() to switch off training-specific layers (like dropout or batch norm).\n",
    "- No gradients are needed during evaluation → use torch.no_grad() for efficiency."
   ]
  },
  {
   "cell_type": "code",
   "execution_count": 7,
   "id": "afd0a22b-fd71-460a-a913-ffed83f2cd54",
   "metadata": {},
   "outputs": [],
   "source": [
    "model.eval()\n",
    "with torch.no_grad():\n",
    "    predictions = model(X)\n",
    "    val_loss = criterion(predictions, y)\n"
   ]
  },
  {
   "cell_type": "markdown",
   "id": "126069c1-2ddf-4472-9534-6cff3b04d9d1",
   "metadata": {},
   "source": [
    "## ✔️ Plotting Metrics\n",
    "- Tracking metrics (loss, accuracy, etc.) over epochs helps you:\n",
    "- Detect underfitting/overfitting\n",
    "- Visualize learning progress"
   ]
  },
  {
   "cell_type": "code",
   "execution_count": 22,
   "id": "a4dad5d0-ff89-4575-995e-f4beb663b00a",
   "metadata": {},
   "outputs": [
    {
     "data": {
      "image/png": "[encoded data removed]",
      "text/plain": [
       "<Figure size 640x480 with 1 Axes>"
      ]
     },
     "metadata": {},
     "output_type": "display_data"
    }
   ],
   "source": [
    "import matplotlib.pyplot as plt\n",
    "\n",
    "train_losses = [0.9, 0.6, 0.3, 0.1]\n",
    "plt.plot(train_losses, label='Training Loss')\n",
    "plt.xlabel('Epoch')\n",
    "plt.ylabel('Loss')\n",
    "plt.title('Training Loss Over Time')\n",
    "plt.legend()\n",
    "plt.show()\n"
   ]
  },
  {
   "cell_type": "markdown",
   "id": "2c9b413d-7c9b-437f-80c6-36d91d4cce90",
   "metadata": {},
   "source": [
    "✅ You can plot validation metrics the same way."
   ]
  },
  {
   "cell_type": "markdown",
   "id": "98d0996d-f65c-4b02-9609-0eebf0b29a15",
   "metadata": {},
   "source": [
    "## ✔️ Saving and Loading Models\n",
    "- PyTorch allows you to:\n",
    "- Save only the model weights (state_dict)\n",
    "- Or the entire model (less common in practice)"
   ]
  },
  {
   "cell_type": "code",
   "execution_count": 28,
   "id": "4c4c9b89-cc62-4c54-9e5c-08a4d29b9c7a",
   "metadata": {},
   "outputs": [
    {
     "data": {
      "text/plain": [
       "Linear(in_features=1, out_features=1, bias=True)"
      ]
     },
     "execution_count": 28,
     "metadata": {},
     "output_type": "execute_result"
    }
   ],
   "source": [
    "#Save model\n",
    "torch.save(model.state_dict(), 'model.pth')\n",
    "\n",
    "#Load model\n",
    "model = nn.Linear(1, 1)  # Must recreate model architecture first\n",
    "model.load_state_dict(torch.load('model.pth'))\n",
    "model.eval()\n",
    "\n"
   ]
  },
  {
   "cell_type": "markdown",
   "id": "65b4a668-96e3-4072-af94-61090badd8c4",
   "metadata": {},
   "source": [
    "✅ This is essential for sharing models or resuming training later."
   ]
  },
  {
   "cell_type": "markdown",
   "id": "5ca8a1b0-d798-4640-aea4-601738667070",
   "metadata": {},
   "source": [
    "## ✅ Summary Table\n",
    "\n",
    "| Concept          | PyTorch Example                                        |\n",
    "|------------------|-------------------------------------------------------|\n",
    "| Training Loop    | Forward → Loss → Backward → Optimizer Step            |\n",
    "| Validation/Test  | `model.eval()`, `with torch.no_grad():`               |\n",
    "| Plotting Metrics | `matplotlib.pyplot.plot()`                            |\n",
    "| Save/Load Model  | `torch.save()`, `torch.load()`, `model.load_state_dict()` |\n"
   ]
  },
  {
   "cell_type": "code",
   "execution_count": null,
   "id": "b9a59897-ecd5-41b4-ac08-96e690e643e7",
   "metadata": {},
   "outputs": [],
   "source": []
  }
 ],
 "metadata": {
  "kernelspec": {
   "display_name": "Python (tf-macos)",
   "language": "python",
   "name": "tf-macos"
  },
  "language_info": {
   "codemirror_mode": {
    "name": "ipython",
    "version": 3
   },
   "file_extension": ".py",
   "mimetype": "text/x-python",
   "name": "python",
   "nbconvert_exporter": "python",
   "pygments_lexer": "ipython3",
   "version": "3.10.16"
  }
 },
 "nbformat": 4,
 "nbformat_minor": 5
}
