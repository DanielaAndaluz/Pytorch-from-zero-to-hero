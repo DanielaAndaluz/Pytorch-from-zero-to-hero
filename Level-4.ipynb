{
 "cells": [
  {
   "cell_type": "markdown",
   "id": "704d71d1-1b8e-4b23-afed-4b4ceabdf1a2",
   "metadata": {},
   "source": [
    "# 🖼 Level 4: Working with Data\n",
    "\n",
    "In this level, you’ll learn how to handle data in PyTorch—whether it’s images, text, or custom datasets.  \n",
    "PyTorch provides powerful tools like **Datasets** and **DataLoaders** to make data preparation easy and scalable.\n",
    "\n",
    "---\n",
    "\n",
    "## ✔️ Datasets & DataLoaders\n",
    "\n",
    "- A **Dataset** provides an interface to your data.\n",
    "- A **DataLoader** handles batching, shuffling, and parallel loading.\n",
    "\n",
    "### Example using TensorDataset:\n",
    "\n",
    "\n"
   ]
  },
  {
   "cell_type": "code",
   "execution_count": 2,
   "id": "06f50c6f-37a4-450b-b503-77db6adc5bb7",
   "metadata": {},
   "outputs": [
    {
     "name": "stdout",
     "output_type": "stream",
     "text": [
      "torch.Size([10, 1]) torch.Size([10, 1])\n",
      "torch.Size([10, 1]) torch.Size([10, 1])\n",
      "torch.Size([10, 1]) torch.Size([10, 1])\n",
      "torch.Size([10, 1]) torch.Size([10, 1])\n",
      "torch.Size([10, 1]) torch.Size([10, 1])\n",
      "torch.Size([10, 1]) torch.Size([10, 1])\n",
      "torch.Size([10, 1]) torch.Size([10, 1])\n",
      "torch.Size([10, 1]) torch.Size([10, 1])\n",
      "torch.Size([10, 1]) torch.Size([10, 1])\n",
      "torch.Size([10, 1]) torch.Size([10, 1])\n"
     ]
    }
   ],
   "source": [
    "import torch\n",
    "from torch.utils.data import TensorDataset, DataLoader\n",
    "\n",
    "# Dummy data\n",
    "X = torch.randn(100, 1)\n",
    "y = 3 * X + 1\n",
    "\n",
    "# Create Dataset and DataLoader\n",
    "dataset = TensorDataset(X, y)\n",
    "loader = DataLoader(dataset, batch_size=10, shuffle=True)\n",
    "\n",
    "# Iterate through batches\n",
    "for batch_X, batch_y in loader:\n",
    "    print(batch_X.shape, batch_y.shape)"
   ]
  },
  {
   "cell_type": "markdown",
   "id": "1e49f1ec-eb66-4743-9b00-426a7ef745a0",
   "metadata": {},
   "source": [
    "✅ This makes it easy to train models on mini-batches."
   ]
  },
  {
   "cell_type": "markdown",
   "id": "1199efc3-95c7-4e20-b284-ba4dabffa958",
   "metadata": {},
   "source": [
    "## ✔️ torchvision & torchtext (for Images and Text)\n",
    "- PyTorch has special libraries to handle images and text:\n",
    "\n",
    "    - torchvision → for image datasets, transforms, and pre-trained models.\n",
    "\n",
    "    - torchtext → for text datasets, tokenization, and embeddings.\n",
    "\n",
    "Example: Loading Images with torchvision"
   ]
  },
  {
   "cell_type": "code",
   "execution_count": 10,
   "id": "b0be515f-1560-4da1-bfdf-d36dc023ad11",
   "metadata": {},
   "outputs": [],
   "source": [
    "from torchvision import datasets, transforms\n",
    "\n",
    "transform = transforms.ToTensor()\n",
    "train_dataset = datasets.FakeData(transform=transform)\n",
    "train_loader = torch.utils.data.DataLoader(train_dataset, batch_size=16, shuffle=True)\n"
   ]
  },
  {
   "cell_type": "markdown",
   "id": "68643b24-3d73-480c-b108-553def04434a",
   "metadata": {},
   "source": [
    "✅ torchvision provides built-in datasets like MNIST, CIFAR-10, ImageNet."
   ]
  },
  {
   "cell_type": "markdown",
   "id": "8df05ded-79e8-4d2d-9b19-210ff63b8e74",
   "metadata": {},
   "source": [
    "## ✔️ Custom Datasets\n",
    "- When your data doesn’t fit standard formats, you can create a custom Dataset by subclassing torch.utils.data.Dataset.\n",
    "\n",
    "Example Custom Dataset:"
   ]
  },
  {
   "cell_type": "code",
   "execution_count": 14,
   "id": "c64a23ce-627d-4431-886a-4dd093659673",
   "metadata": {},
   "outputs": [],
   "source": [
    "from torch.utils.data import Dataset\n",
    "\n",
    "class MyDataset(Dataset):\n",
    "    def __init__(self, X, y):\n",
    "        self.X = X\n",
    "        self.y = y\n",
    "\n",
    "    def __len__(self):\n",
    "        return len(self.X)\n",
    "\n",
    "    def __getitem__(self, idx):\n",
    "        return self.X[idx], self.y[idx]\n",
    "\n",
    "# Usage:\n",
    "dataset = MyDataset(X, y)\n",
    "loader = DataLoader(dataset, batch_size=5)\n"
   ]
  },
  {
   "cell_type": "markdown",
   "id": "03353515-41f7-4128-aed7-d2aa93a00486",
   "metadata": {},
   "source": [
    "✅ This is essential for handling non-standard datasets like time series, tabular data, or custom file formats."
   ]
  },
  {
   "cell_type": "markdown",
   "id": "f3298102-0bf4-4514-a599-16d7f080265e",
   "metadata": {},
   "source": [
    "## ✅ Summary Table\n",
    "\n",
    "| Concept                | PyTorch Example                                         |\n",
    "|------------------------|--------------------------------------------------------|\n",
    "| Datasets & DataLoaders  | `TensorDataset`, `DataLoader`                           |\n",
    "| torchvision / torchtext | `datasets.MNIST`, `datasets.CIFAR10`, text pipelines   |\n",
    "| Custom Dataset          | Subclass `Dataset` and implement `__len__` + `__getitem__` |\n"
   ]
  },
  {
   "cell_type": "code",
   "execution_count": null,
   "id": "f9ba70cc-e7cb-41d0-8b24-1ce15e3d79dd",
   "metadata": {},
   "outputs": [],
   "source": []
  }
 ],
 "metadata": {
  "kernelspec": {
   "display_name": "Python (tf-macos)",
   "language": "python",
   "name": "tf-macos"
  },
  "language_info": {
   "codemirror_mode": {
    "name": "ipython",
    "version": 3
   },
   "file_extension": ".py",
   "mimetype": "text/x-python",
   "name": "python",
   "nbconvert_exporter": "python",
   "pygments_lexer": "ipython3",
   "version": "3.10.16"
  }
 },
 "nbformat": 4,
 "nbformat_minor": 5
}
