{
 "cells": [
  {
   "cell_type": "markdown",
   "id": "0bdcfb32-a252-4a6e-b45f-df1c36f2f5fe",
   "metadata": {},
   "source": [
    "# 🏗️ Level 2: Model Building with `torch.nn`\n",
    "\n",
    "In this level, we move from **manual models** to using **PyTorch's high-level API**:  \n",
    "The `torch.nn` module simplifies model creation, making your code cleaner, more scalable, and easier to maintain.\n",
    "\n",
    "---\n",
    "\n",
    "## ✔️ `torch.nn.Module` — Building Custom Models\n",
    "\n",
    "- All neural networks in PyTorch are built as subclasses of `torch.nn.Module`.\n",
    "- You define:\n",
    "  - `__init__()` → model layers\n",
    "  - `forward()` → how data flows through the model\n",
    "\n",
    "### Example: Simple Linear Regression Model\n"
   ]
  },
  {
   "cell_type": "code",
   "execution_count": 3,
   "id": "d41a0899-a394-4760-b67b-2c9a715ef310",
   "metadata": {},
   "outputs": [],
   "source": [
    "import torch\n",
    "import torch.nn as nn\n",
    "\n",
    "class LinearRegressionModel(nn.Module):\n",
    "    def __init__(self):\n",
    "        super(LinearRegressionModel, self).__init__()\n",
    "        self.linear = nn.Linear(in_features=1, out_features=1)  # y = wx + b\n",
    "\n",
    "    def forward(self, x):\n",
    "        return self.linear(x)\n",
    "\n",
    "# Create model\n",
    "model = LinearRegressionModel()"
   ]
  },
  {
   "cell_type": "markdown",
   "id": "3c1ac4dc-7a0d-46a6-961e-f33eb931e423",
   "metadata": {},
   "source": [
    "✅ This model can now automatically handle weights, biases, gradients, and backpropagation for you."
   ]
  },
  {
   "cell_type": "markdown",
   "id": "65ddc364-2aec-4b8d-9cbb-1cc739ae0865",
   "metadata": {},
   "source": [
    "## ✔️ Sequential Models (nn.Sequential)\n",
    "- nn.Sequential allows you to stack layers in order without defining a separate class.\n",
    "- Great for simple feed-forward networks."
   ]
  },
  {
   "cell_type": "code",
   "execution_count": 7,
   "id": "f8d61e54-ffa4-4caf-82a1-bd52abb16990",
   "metadata": {},
   "outputs": [],
   "source": [
    "model = nn.Sequential(\n",
    "    nn.Linear(10, 5),\n",
    "    nn.ReLU(),\n",
    "    nn.Linear(5, 1)\n",
    ")\n"
   ]
  },
  {
   "cell_type": "markdown",
   "id": "43bf6532-1c2e-4077-ab40-1bd86506cc6e",
   "metadata": {},
   "source": [
    "✅ This is a quick way to build small to medium-sized networks without too much boilerplate."
   ]
  },
  {
   "cell_type": "markdown",
   "id": "abdc6b30-07db-4dbb-ad2a-12e874dae406",
   "metadata": {},
   "source": [
    "## ✔️ Moving Models to GPU\n",
    "- Just like tensors, models must be moved to GPU for acceleration.\n",
    "\n"
   ]
  },
  {
   "cell_type": "code",
   "execution_count": 17,
   "id": "7c8c12ca-7037-4718-bd31-4c402ff990c9",
   "metadata": {},
   "outputs": [
    {
     "name": "stdout",
     "output_type": "stream",
     "text": [
      "True\n",
      "mps\n"
     ]
    }
   ],
   "source": [
    "import torch\n",
    "\n",
    "# Check if Metal GPU (MPS) is available\n",
    "device = torch.device('mps' if torch.backends.mps.is_available() else 'cpu')\n",
    "print(torch.backends.mps.is_available())  # Should print True on M1/M2/M3 Macs\n",
    "print(device)\n",
    "\n",
    "# Move model to GPU (MPS) or CPU\n",
    "model = model.to(device)\n"
   ]
  },
  {
   "cell_type": "markdown",
   "id": "9b39b603-8542-4c99-9b44-d8e1cd088670",
   "metadata": {},
   "source": [
    "## ✅ Summary Table\n",
    "\n",
    "| Concept          | PyTorch Example                                    |\n",
    "|------------------|----------------------------------------------------|\n",
    "| Custom Model     | Subclass `nn.Module` with `forward()` method        |\n",
    "| Sequential Model | `nn.Sequential(nn.Linear, nn.ReLU, ...)`            |\n",
    "| Move to GPU      | `model.to(device)`                                  |\n"
   ]
  },
  {
   "cell_type": "code",
   "execution_count": null,
   "id": "106f88de-2498-4355-af45-f210bd748ad3",
   "metadata": {},
   "outputs": [],
   "source": []
  }
 ],
 "metadata": {
  "kernelspec": {
   "display_name": "Python (tf-macos)",
   "language": "python",
   "name": "tf-macos"
  },
  "language_info": {
   "codemirror_mode": {
    "name": "ipython",
    "version": 3
   },
   "file_extension": ".py",
   "mimetype": "text/x-python",
   "name": "python",
   "nbconvert_exporter": "python",
   "pygments_lexer": "ipython3",
   "version": "3.10.16"
  }
 },
 "nbformat": 4,
 "nbformat_minor": 5
}
